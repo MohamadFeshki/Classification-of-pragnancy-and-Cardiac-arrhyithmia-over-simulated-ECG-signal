{
 "cells": [
  {
   "cell_type": "code",
   "execution_count": 13,
   "metadata": {
    "collapsed": false
   },
   "outputs": [],
   "source": [
    "import numpy as np\n",
    "from scipy.io import loadmat\n",
    "import scipy\n",
    "from scipy import signal\n",
    "from matplotlib import pyplot  as plt\n",
    "from scipy.fftpack import fft\n",
    "import PyQt5\n",
    "import peakutils\n",
    "import timeit\n",
    "import pandas as pd\n",
    "from IPython.display import display, HTML\n",
    "from sklearn.neural_network import MLPClassifier\n",
    "from sklearn.model_selection import GridSearchCV\n",
    "from sklearn import svm , datasets\n",
    "from sklearn.metrics import confusion_matrix\n",
    "from sklearn.metrics import accuracy_score\n",
    "from sklearn.model_selection import GridSearchCV\n",
    "from sklearn.multiclass import OneVsOneClassifier\n",
    "from sklearn.decomposition import PCA\n",
    "from sklearn.utils import shuffle\n",
    "import sklearn\n",
    "%matplotlib qt5"
   ]
  },
  {
   "cell_type": "code",
   "execution_count": 14,
   "metadata": {
    "collapsed": false
   },
   "outputs": [],
   "source": [
    "class plot ():\n",
    "    def __init__(self, sample_freq):\n",
    "        self.S = sample_freq\n",
    "    def time(self, data, label):\n",
    "        N = len(data)\n",
    "        T = 1.0 / self.S\n",
    "        t = np.linspace(0 , N*T , N )\n",
    "        plt.figure(figsize=(9,3))\n",
    "        plt.plot(t, data, color= 'm')\n",
    "        plt.grid()\n",
    "        plt.ylabel('Amplitude(mu Volt)')\n",
    "        plt.xlabel('Time(Sec)')\n",
    "        plt.title(label)\n",
    "        plt.tight_layout()\n",
    "        plt.show()\n",
    "    def freq(self, data , label):\n",
    "        #plot FFT of signal\n",
    "        N = len(data)\n",
    "        T = 1.0 / self.S\n",
    "        xf = np.linspace(0.0, 1.0/(2.0*T), N/2)         \n",
    "        fig, ax = plt.subplots(2, 1, figsize=(7, 4))\n",
    "        ax[0].plot(xf, 2.0/N * np.abs(data[:N//2]).T, color='blue')\n",
    "        ax[0].set_ylabel(\"Amplitude \", color='blue')\n",
    "        ax[0].grid()\n",
    "        ax[1].plot(xf, np.unwrap(np.angle(data[:N//2]).T)*180/np.pi, color='green')\n",
    "        ax[1].set_ylabel(\"Angle (degrees)\", color='green')\n",
    "        ax[1].set_xlabel(\"Frequency (Hz)\")\n",
    "        ax[1].grid()\n",
    "        plt.suptitle(label)\n",
    "        plt.show()\n",
    "        \n",
    "    def filt(self, b, a ,label):\n",
    "        w, h = signal.freqz(b, a)\n",
    "        freq = w*self.S/(2*np.pi)\n",
    "        fig, ax = plt.subplots(2, 1, figsize=(7, 4))\n",
    "        ax[0].plot(freq, (abs(h)), color='blue')\n",
    "        ax[0].set_title(\"Frequency Response\")\n",
    "        ax[0].set_ylabel(\"Amplitude \", color='blue')\n",
    "        ax[0].grid()\n",
    "        ax[1].plot(freq, np.unwrap(np.angle(h))*180/np.pi, color='green')\n",
    "        ax[1].set_ylabel(\"Angle (degrees)\", color='green')\n",
    "        ax[1].set_xlabel(\"Frequency (Hz)\")\n",
    "        ax[1].grid()\n",
    "        plt.suptitle(label)\n",
    "        plt.show()\n",
    "    def peak(self ,data ,  indices , label ):\n",
    "        self.time(data, label)\n",
    "        for i in range(len(indices)):\n",
    "            plt.plot(indices[i]/self.S,data[indices[i]] , '*' , color='r')\n",
    "            plt.show()\n",
    "        "
   ]
  },
  {
   "cell_type": "code",
   "execution_count": 3,
   "metadata": {
    "collapsed": false
   },
   "outputs": [],
   "source": [
    "normal1 = np.array(loadmat('Normal1.mat')['val'])[1]\n",
    "normal2 = np.array(loadmat('Normal2.mat')['val'])[1]\n",
    "normal3 = np.array(loadmat('Normal3.mat')['val'])[1]\n",
    "normal4 = np.array(loadmat('Normal4.mat')['val'])[2]\n",
    "normal5 = np.array(loadmat('Normal5.mat')['val'])[1]\n",
    "normal = [normal1,normal2 , normal3 , normal4 , normal5]"
   ]
  },
  {
   "cell_type": "markdown",
   "metadata": {},
   "source": [
    "# preprocessing"
   ]
  },
  {
   "cell_type": "markdown",
   "metadata": {},
   "source": [
    "### ECG in time and freq domain"
   ]
  },
  {
   "cell_type": "code",
   "execution_count": 15,
   "metadata": {
    "collapsed": false,
    "scrolled": true
   },
   "outputs": [
    {
     "name": "stderr",
     "output_type": "stream",
     "text": [
      "C:\\Users\\Mohamad\\Anaconda3\\lib\\site-packages\\peakutils\\peak.py:37: RuntimeWarning: overflow encountered in short_scalars\n",
      "  thres = thres * (np.max(y) - np.min(y)) + np.min(y)\n"
     ]
    },
    {
     "name": "stdout",
     "output_type": "stream",
     "text": [
      "Mother heart rate calculated from original mother_ECG : 74.14 \n",
      "Mother heart rate calculated from original mother_ECG : 88.43 \n",
      "Mother heart rate calculated from original mother_ECG : 71.21 \n",
      "Mother heart rate calculated from original mother_ECG : 73.04 \n",
      "Mother heart rate calculated from original mother_ECG : 61.60 \n"
     ]
    }
   ],
   "source": [
    "mother_signal = np.zeros_like(normal)\n",
    "HRVmother_org = np.zeros(len(normal))\n",
    "for n in range (len(normal)):\n",
    "    mt1 = normal[n]\n",
    "    fs = 1000\n",
    "    N = len(mt1)\n",
    "    mother = plot(fs)\n",
    "#     mother.time(mt1,'Initial Mother ECG signal in time domain')\n",
    "\n",
    "    # Notch filter\n",
    "    f0 = 50.0  # Frequency to be removed from signal (Hz)\n",
    "    w0 = f0/(fs/2)  # Normalized Frequency\n",
    "    b50, a50 = scipy.signal.butter(2, [w0-.02, w0+.02], 'stop')\n",
    "    mt2 = scipy.signal.filtfilt(b50, a50, mt1)\n",
    "\n",
    "    # low pass filter\n",
    "    w0 = 50/(fs/2)  \n",
    "    b125, a125 = scipy.signal.butter(8, w0, 'low')\n",
    "    mt3 = scipy.signal.filtfilt(b125, a125, mt2)\n",
    "    mother_signal[n]= scipy.signal.filtfilt(b125, a125, mt2)\n",
    "\n",
    "#     mother.time(mother_signal[n], 'Denoisde signal')\n",
    "\n",
    "    indices = peakutils.indexes(mother_signal[n], thres=0.97, min_dist=600)\n",
    "#     mother.peak(mother_signal[n], indices , 'peak detected on original mother-ECG ')\n",
    "    hr=0\n",
    "    HRVmother_org[n]=0\n",
    "    for i in range(len(indices)-1):\n",
    "        if (indices[i+1] - indices[i] > fs/ 2) and (indices[i+1] - indices[i] < 1.7*fs) :\n",
    "            HRVmother_org[n] += indices[i+1] - indices[i]\n",
    "            hr += 1\n",
    "    HRVmother_org[n] =( 1/(HRVmother_org[n] / hr / fs)) * 60\n",
    "    print ('Mother heart rate calculated from original mother_ECG : %.2f '% HRVmother_org[n])\n",
    "mother.time(mt1,'Initial Mother ECG signal in time domain')\n",
    "mother.time(mother_signal[n], 'Denoisde signal')\n",
    "mother.peak(mother_signal[n], indices , 'peak detected on original mother-ECG ')"
   ]
  },
  {
   "cell_type": "markdown",
   "metadata": {},
   "source": [
    "# Generate infant's ECG"
   ]
  },
  {
   "cell_type": "code",
   "execution_count": 17,
   "metadata": {
    "collapsed": false,
    "scrolled": true
   },
   "outputs": [
    {
     "name": "stderr",
     "output_type": "stream",
     "text": [
      "C:\\Users\\Mohamad\\Anaconda3\\lib\\site-packages\\scipy\\signal\\signaltools.py:1889: VisibleDeprecationWarning: using a non-integer number instead of an integer will result in an error in the future\n",
      "  Y = zeros(newshape, 'D')\n",
      "C:\\Users\\Mohamad\\Anaconda3\\lib\\site-packages\\ipykernel\\__main__.py:11: VisibleDeprecationWarning: using a non-integer number instead of an integer will result in an error in the future\n"
     ]
    },
    {
     "name": "stdout",
     "output_type": "stream",
     "text": [
      "Infant heart rate calculated from original infant_ECG : 123.58 \n",
      "Infant heart rate calculated from original infant_ECG : 126.35 \n",
      "Infant heart rate calculated from original infant_ECG : 89.02 \n",
      "Infant heart rate calculated from original infant_ECG : 142.25 \n",
      "Infant heart rate calculated from original infant_ECG : 97.15 \n"
     ]
    }
   ],
   "source": [
    "it = {}\n",
    "mix_ideal={}\n",
    "HRVinfant_org = np.zeros(len(normal))\n",
    "resmpl = np.zeros(len(normal))\n",
    "for n in range ((len(normal))):\n",
    "    resmpl[n] = int(N// (10 /np.random.randint(5,9)))\n",
    "\n",
    "    it[n]= signal.resample(x=mother_signal[n] , num=resmpl[n])\n",
    "    st = N - resmpl[n] - 1\n",
    "    st = np.random.randint(0,st)\n",
    "    mother_signal_new= mother_signal[n][st:st+resmpl[n]]\n",
    "\n",
    "\n",
    "    mix_ideal[n] = (np.random.random()/3.5 +.1)*it[n] + mother_signal_new\n",
    "#     mother.time(mix_ideal[n] , 'Mixed ideal ECG in time domian')\n",
    "\n",
    "    indices = peakutils.indexes(it[n], thres=0.81, min_dist=300)\n",
    "#     mother.peak(it[n], indices , 'peak detected on original infant-ECG ')\n",
    "    hr=0\n",
    "    HRVinfant_org[n] =0\n",
    "    for i in range(len(indices)-1):\n",
    "        if (indices[i+1] - indices[i] > fs/ 3) and (indices[i+1] - indices[i] < fs) :\n",
    "            HRVinfant_org[n] += indices[i+1] - indices[i]\n",
    "            hr += 1\n",
    "    HRVinfant_org[n] =( 1/(HRVinfant_org[n] / hr / fs)) * 60\n",
    "    print ('Infant heart rate calculated from original infant_ECG : %.2f '% HRVinfant_org[n])\n",
    "mother.peak(it[n], indices , 'peak detected on original infant-ECG ')\n"
   ]
  },
  {
   "cell_type": "markdown",
   "metadata": {},
   "source": [
    "# Extract mom's and baby's heart rate from mixed data"
   ]
  },
  {
   "cell_type": "code",
   "execution_count": 21,
   "metadata": {
    "collapsed": false,
    "scrolled": true
   },
   "outputs": [
    {
     "name": "stdout",
     "output_type": "stream",
     "text": [
      "Mother heart rate calculated from mix_ECG : 74.67 \n",
      "Mother heart rate calculated from mix_ECG : 88.99 \n",
      "Mother heart rate calculated from mix_ECG : 71.55 \n",
      "Mother heart rate calculated from mix_ECG : 72.67 \n",
      "Mother heart rate calculated from mix_ECG : 58.22 \n"
     ]
    }
   ],
   "source": [
    "HRVmother = np.zeros(len(normal))\n",
    "for n in range ((len(normal))):\n",
    "\n",
    "    indicesm = peakutils.indexes(mix_ideal[n], thres=0.65, min_dist=600)\n",
    "#     mother.peak(mix_ideal[n], indicesm , 'peak detected on denoised mix-ECG ')\n",
    "    hr=0\n",
    "    HRVmother[n] = 0\n",
    "    for i in range(len(indicesm)-1):\n",
    "        if (indicesm[i+1] - indicesm[i] > fs/ 2) and (indicesm[i+1] - indicesm[i] < 1.7*fs) :\n",
    "            HRVmother[n] += indicesm[i+1] - indicesm[i]\n",
    "            hr += 1\n",
    "    HRVmother[n] =( 1/(HRVmother[n] / hr / fs)) * 60\n",
    "    print ('Mother heart rate calculated from mix_ECG : %.2f '% HRVmother[n])\n",
    "mother.peak(mix_ideal[n], indicesm , 'peak detected on denoised mix-ECG ')\n"
   ]
  },
  {
   "cell_type": "markdown",
   "metadata": {},
   "source": [
    "# remove mother signal based on correlation form mix-ecg"
   ]
  },
  {
   "cell_type": "code",
   "execution_count": 20,
   "metadata": {
    "collapsed": false
   },
   "outputs": [
    {
     "name": "stderr",
     "output_type": "stream",
     "text": [
      "C:\\Users\\Mohamad\\Anaconda3\\lib\\site-packages\\ipykernel\\__main__.py:14: VisibleDeprecationWarning: using a non-integer number instead of an integer will result in an error in the future\n",
      "C:\\Users\\Mohamad\\Anaconda3\\lib\\site-packages\\ipykernel\\__main__.py:29: VisibleDeprecationWarning: using a non-integer number instead of an integer will result in an error in the future\n"
     ]
    },
    {
     "name": "stdout",
     "output_type": "stream",
     "text": [
      "infant heart rate calculated from mix_ECG : 123.58 \n",
      "infant heart rate calculated from mix_ECG : 126.35 \n",
      "infant heart rate calculated from mix_ECG : 89.02 \n",
      "infant heart rate calculated from mix_ECG : 142.25 \n",
      "infant heart rate calculated from mix_ECG : 97.15 \n"
     ]
    }
   ],
   "source": [
    "HRVinfant = np.zeros(len(normal))\n",
    "babe_ECG ={}\n",
    "# for n in range ((len(normal))):\n",
    "\n",
    "for n in range (5):\n",
    "\n",
    "    corr = signal.correlate(mother_signal[n],mix_ideal[n]  , 'same')\n",
    "    max_corr = np.argmax(corr)\n",
    "\n",
    "    fig, (ax_mom,ax_mixx, ax_corr) = plt.subplots(3, 1, sharex=True)\n",
    "    ax_mom.plot(mother_signal[n])\n",
    "    ax_mom.set_title('Mother signal'+ str(n))\n",
    "\n",
    "    ax_mixx.plot((np.hstack((np.zeros(max_corr - resmpl[n] //2),mix_ideal[n]))))\n",
    "    ax_mixx.plot((max_corr- resmpl[n] //2),0, '<' , color='r')\n",
    "    ax_mixx.plot((max_corr+ resmpl[n] //2),0, '>', color= 'r')\n",
    "    ax_mixx.set_title('Mix siganl'+ str(n))\n",
    "\n",
    "    ax_corr.plot(corr)\n",
    "    ax_corr.plot(max_corr, corr[max_corr], 'ro')\n",
    "    ax_corr.plot((max_corr- resmpl[n]//2),0, '<' , color='r')\n",
    "    ax_corr.plot((max_corr+ resmpl[n]//2),0, '>', color= 'r')\n",
    "    ax_corr.set_title('Cross-correlated with Mother and mixed signal'+ str(n))\n",
    "    ax_mom.margins(0, 0.1)\n",
    "\n",
    "    fig.tight_layout()\n",
    "    fig.show()\n",
    "\n",
    "    babe_ECG[n] = mix_ideal[n][:(resmpl[n]//2)+(resmpl[n]//2)] - mother_signal[n][max_corr - resmpl[n]//2 : max_corr + resmpl[n]//2]\n",
    "    indicesb = peakutils.indexes(babe_ECG[n], thres=0.65, min_dist=300)\n",
    "#     mother.peak(babe_ECG[n], indicesb , 'peak detected on extracted baby ECG ')\n",
    "    hr=0\n",
    "    HRVinfant[n] = 0\n",
    "    for i in range(len(indicesb)-1):\n",
    "        if (indicesb[i+1] - indicesb[i] > fs/ 3) and (indicesb[i+1] - indicesb[i] < fs) :\n",
    "            HRVinfant[n] += indicesb[i+1] - indicesb[i]\n",
    "            hr += 1\n",
    "    HRVinfant[n] =( 1/(HRVinfant[n] / hr / fs)) * 60\n",
    "    print ('infant heart rate calculated from mix_ECG : %.2f '% HRVinfant[n])\n",
    "mother.peak(babe_ECG[n], indicesb , 'peak detected on extracted baby ECG ')"
   ]
  },
  {
   "cell_type": "markdown",
   "metadata": {},
   "source": [
    "# result"
   ]
  },
  {
   "cell_type": "code",
   "execution_count": 22,
   "metadata": {
    "collapsed": false
   },
   "outputs": [
    {
     "name": "stdout",
     "output_type": "stream",
     "text": [
      "Mother original heart rate calculated from mother_ECG : 74.14 \n",
      "Infant original heart rate calculated from mother_ECG : 123.58 \n",
      "Mother heart rate calculated from mix_ECG : 74.67 \n",
      "Infant heart rate calculated from mix_ECG : 123.58 \n",
      "Mother original heart rate calculated from mother_ECG : 88.43 \n",
      "Infant original heart rate calculated from mother_ECG : 126.35 \n",
      "Mother heart rate calculated from mix_ECG : 88.99 \n",
      "Infant heart rate calculated from mix_ECG : 126.35 \n",
      "Mother original heart rate calculated from mother_ECG : 71.21 \n",
      "Infant original heart rate calculated from mother_ECG : 89.02 \n",
      "Mother heart rate calculated from mix_ECG : 71.55 \n",
      "Infant heart rate calculated from mix_ECG : 89.02 \n",
      "Mother original heart rate calculated from mother_ECG : 73.04 \n",
      "Infant original heart rate calculated from mother_ECG : 142.25 \n",
      "Mother heart rate calculated from mix_ECG : 72.67 \n",
      "Infant heart rate calculated from mix_ECG : 142.25 \n",
      "Mother original heart rate calculated from mother_ECG : 61.60 \n",
      "Infant original heart rate calculated from mother_ECG : 97.15 \n",
      "Mother heart rate calculated from mix_ECG : 58.22 \n",
      "Infant heart rate calculated from mix_ECG : 97.15 \n"
     ]
    }
   ],
   "source": [
    "for n in range(len(normal)):\n",
    "    print ('Mother original heart rate calculated from mother_ECG : %.2f '% HRVmother_org[n])\n",
    "    print ('Infant original heart rate calculated from mother_ECG : %.2f '% HRVinfant_org[n])\n",
    "    print ('Mother heart rate calculated from mix_ECG : %.2f '% HRVmother[n])\n",
    "    print ('Infant heart rate calculated from mix_ECG : %.2f '% HRVinfant[n])"
   ]
  },
  {
   "cell_type": "code",
   "execution_count": null,
   "metadata": {
    "collapsed": false
   },
   "outputs": [],
   "source": [
    "# plt.close('all')"
   ]
  },
  {
   "cell_type": "code",
   "execution_count": 23,
   "metadata": {
    "collapsed": false
   },
   "outputs": [
    {
     "name": "stderr",
     "output_type": "stream",
     "text": [
      "C:\\Users\\Mohamad\\Anaconda3\\lib\\site-packages\\matplotlib\\pyplot.py:524: RuntimeWarning: More than 20 figures have been opened. Figures created through the pyplot interface (`matplotlib.pyplot.figure`) are retained until explicitly closed and may consume too much memory. (To control this warning, see the rcParam `figure.max_open_warning`).\n",
      "  max_open_warning, RuntimeWarning)\n"
     ]
    }
   ],
   "source": [
    "# single= np.zeros_like(mother_signal)\n",
    "# for n in range(len(normal)):\n",
    "# #     for i in range (len(normal)):\n",
    "#     n1 = np.linspace(0, N/fs, N)\n",
    "#     noise = ((1/6)*np.cos(1*np.pi*2*n1) +(1/2)*np.sin(.3*np.pi*2*n1))\n",
    "#     single[n] = 2000*noise + mother_signal[n]\n",
    "# #     single[n] = 10000*noise\n",
    "# # mother.time(single[0], 'Non pregnant ECG with simulated arrhythmia')\n",
    "# mother.time(noise, 'Non pregnant ECG with simulated arrhythmia')\n",
    "\n",
    "single= np.zeros_like(mother_signal)\n",
    "for n in range(len(normal)):\n",
    "#     for i in range (len(normal)):\n",
    "    n1 = np.linspace(0, N/fs, N)\n",
    "    w0 = 5/(1000/2) \n",
    "    b2, a2 = scipy.signal.butter(5, w0, 'high')\n",
    "#     mother.filt(b2,a2,'High pass filter to remove motion artifact')\n",
    "\n",
    "    noise = scipy.signal.filtfilt(b2, a2, mother_signal[n])\n",
    "    single[n] = .13*noise + mother_signal[n]\n",
    "mother.time(single[0], 'Non pregnant ECG with simulated arrhythmia')\n",
    "mother.time(noise, 'arrhythmia noise')\n"
   ]
  },
  {
   "cell_type": "code",
   "execution_count": 24,
   "metadata": {
    "collapsed": false,
    "scrolled": true
   },
   "outputs": [
    {
     "name": "stderr",
     "output_type": "stream",
     "text": [
      "C:\\Users\\Mohamad\\Anaconda3\\lib\\site-packages\\peakutils\\peak.py:37: RuntimeWarning: overflow encountered in short_scalars\n",
      "  thres = thres * (np.max(y) - np.min(y)) + np.min(y)\n"
     ]
    },
    {
     "name": "stdout",
     "output_type": "stream",
     "text": [
      "KFold(n_splits=10, random_state=None, shuffle=False)\n"
     ]
    },
    {
     "name": "stderr",
     "output_type": "stream",
     "text": [
      "C:\\Users\\Mohamad\\Anaconda3\\lib\\site-packages\\sklearn\\neural_network\\multilayer_perceptron.py:563: ConvergenceWarning: Stochastic Optimizer: Maximum iterations reached and the optimization hasn't converged yet.\n",
      "  % (), ConvergenceWarning)\n"
     ]
    },
    {
     "name": "stdout",
     "output_type": "stream",
     "text": [
      "Classification based on : class0: Non pregnant healthy person   class1: pregnant person healthy person\n",
      "estimator1 (MLP classifier) accuracy :  0.846666666667\n",
      "estimator1 (Linear SVM) accuracy :  0.648888888889\n",
      "KFold(n_splits=10, random_state=None, shuffle=False)\n"
     ]
    },
    {
     "name": "stderr",
     "output_type": "stream",
     "text": [
      "C:\\Users\\Mohamad\\Anaconda3\\lib\\site-packages\\peakutils\\peak.py:37: RuntimeWarning: overflow encountered in short_scalars\n",
      "  thres = thres * (np.max(y) - np.min(y)) + np.min(y)\n",
      "C:\\Users\\Mohamad\\Anaconda3\\lib\\site-packages\\sklearn\\neural_network\\multilayer_perceptron.py:563: ConvergenceWarning: Stochastic Optimizer: Maximum iterations reached and the optimization hasn't converged yet.\n",
      "  % (), ConvergenceWarning)\n"
     ]
    },
    {
     "name": "stdout",
     "output_type": "stream",
     "text": [
      "Classification based on : class0: other arrhythmia   class1: pregnant healthy person\n",
      "estimator1 (MLP classifier) accuracy :  0.977777777778\n",
      "estimator1 (Linear SVM) accuracy :  0.955555555556\n",
      "KFold(n_splits=10, random_state=None, shuffle=False)\n"
     ]
    },
    {
     "name": "stderr",
     "output_type": "stream",
     "text": [
      "C:\\Users\\Mohamad\\Anaconda3\\lib\\site-packages\\peakutils\\peak.py:37: RuntimeWarning: overflow encountered in short_scalars\n",
      "  thres = thres * (np.max(y) - np.min(y)) + np.min(y)\n",
      "C:\\Users\\Mohamad\\Anaconda3\\lib\\site-packages\\sklearn\\neural_network\\multilayer_perceptron.py:563: ConvergenceWarning: Stochastic Optimizer: Maximum iterations reached and the optimization hasn't converged yet.\n",
      "  % (), ConvergenceWarning)\n"
     ]
    },
    {
     "name": "stdout",
     "output_type": "stream",
     "text": [
      "Classification based on : class0: Non pregnant healthy person   class1: other arrhythmia\n",
      "estimator1 (MLP classifier) accuracy :  0.977777777778\n",
      "estimator1 (Linear SVM) accuracy :  0.955555555556\n"
     ]
    }
   ],
   "source": [
    "for pp in range (3):\n",
    "    DATA={}\n",
    "    for n in range(len(normal)):\n",
    "        if pp == 0:\n",
    "            DATA[n]=mother_signal[n], peakutils.indexes(mother_signal[n], thres=0.97, min_dist=600) , 0\n",
    "            DATA[n+5]=mix_ideal[n],peakutils.indexes(mix_ideal[n], thres=0.65, min_dist=600) ,1\n",
    "            labell = 'class0: Non pregnant healthy person   class1: pregnant person healthy person'\n",
    "        if pp == 1:\n",
    "            DATA[n]=single[n], peakutils.indexes(single[n], thres=0.97, min_dist=600) , 0\n",
    "            DATA[n+5]=mix_ideal[n],peakutils.indexes(mix_ideal[n], thres=0.65, min_dist=600) ,1\n",
    "            labell = 'class0: other arrhythmia   class1: pregnant healthy person'\n",
    "        if pp == 2:\n",
    "            DATA[n]=single[n], peakutils.indexes(single[n], thres=0.97, min_dist=600) , 0\n",
    "            DATA[n+5]=mix_ideal[n],peakutils.indexes(mix_ideal[n], thres=0.65, min_dist=600) ,1\n",
    "            labell = 'class0: Non pregnant healthy person   class1: other arrhythmia'\n",
    "    ecg={}\n",
    "\n",
    "    for w in range (len(DATA)):\n",
    "        loc = {}\n",
    "        for i in range (len( DATA[w][1])-1):\n",
    "            loc[i] = signal.resample((DATA[w][0][DATA[w][1][i]:DATA[w][1][i+1]]), fs) , fs*(fs/(DATA[w][1][i+1]-DATA[w][1][i])) , DATA[w][2]\n",
    "        ecg[w] = loc\n",
    "\n",
    "    n_all=0\n",
    "    for w in range (len(ecg)):\n",
    "        n_all += len(ecg[w])\n",
    "    n_train = n_all - len(ecg)\n",
    "    n_test = len(ecg)\n",
    "    train_data = np.zeros((n_train,fs))\n",
    "    test_data =  np.zeros((n_test,fs))\n",
    "    train_fs = np.zeros(n_train)\n",
    "    test_fs = np.zeros(n_test)\n",
    "    train_label = np.zeros(n_train)\n",
    "    test_label = np.zeros(n_test)\n",
    "\n",
    "\n",
    "    z=0\n",
    "    c=0\n",
    "    for w in range (len(ecg)):\n",
    "        for i in range (len(ecg[w])-1):\n",
    "            train_data[z] = ecg[w][i][0]\n",
    "            train_fs[z]   = ecg[w][i][1]\n",
    "            train_label[z]= ecg[w][i][2]\n",
    "            z +=1\n",
    "        test_data[c] = ecg[w][i][0]\n",
    "        test_fs[c]   = ecg[w][i][1]\n",
    "        test_label[c]= ecg[w][i][2]\n",
    "        c +=1\n",
    "\n",
    "    train_data , train_fs , train_label = shuffle(train_data , train_fs , train_label)\n",
    "    test_data , test_fs , test_label = shuffle(test_data , test_fs , test_label)\n",
    "    total_data = np.vstack((train_data,test_data))\n",
    "    total_label = np.hstack((train_label,test_label))\n",
    "    total_data = sklearn.preprocessing.normalize(total_data)\n",
    "\n",
    "\n",
    "    from sklearn.model_selection import KFold\n",
    "\n",
    "    kf = KFold(n_splits=10)\n",
    "    print(kf)\n",
    "    acc1 =0\n",
    "    acc2 =0\n",
    "    for train_index, test_index in kf.split(total_data):\n",
    "    #     print(\"TRAIN:\", train_index, \"TEST:\", test_index)\n",
    "        X_train, X_test = total_data[train_index], total_data[test_index]\n",
    "        y_train, y_test = total_label[train_index], total_label[test_index]\n",
    "        pca = PCA(.95)\n",
    "        pca.fit(X_train)\n",
    "        X_train= pca.transform(X_train)\n",
    "        X_test= pca.transform(X_test)\n",
    "        estimator1= MLPClassifier(hidden_layer_sizes=1000)\n",
    "        estimator1.fit(X_train, y_train)\n",
    "        predicted_label1 = estimator1.predict(X_test)\n",
    "        acc1 += accuracy_score(y_test, predicted_label1)\n",
    "        estimator2 =sklearn.svm.SVC(kernel='linear')\n",
    "        estimator2.fit(X_train, y_train)\n",
    "        predicted_label2 = estimator2.predict(X_test)\n",
    "        acc2 += accuracy_score(y_test, predicted_label2)\n",
    "    print('Classification based on :' , labell)\n",
    "    print('estimator1 (MLP classifier) accuracy : ' , acc1/kf.get_n_splits())\n",
    "    print('estimator1 (Linear SVM) accuracy : ',  acc2/kf.get_n_splits())\n",
    "    "
   ]
  },
  {
   "cell_type": "code",
   "execution_count": 12,
   "metadata": {
    "collapsed": false
   },
   "outputs": [
    {
     "data": {
      "text/html": [
       "<div>\n",
       "<table border=\"1\" class=\"dataframe\">\n",
       "  <thead>\n",
       "    <tr style=\"text-align: right;\">\n",
       "      <th></th>\n",
       "      <th>0</th>\n",
       "      <th>1</th>\n",
       "    </tr>\n",
       "  </thead>\n",
       "  <tbody>\n",
       "    <tr>\n",
       "      <th>0</th>\n",
       "      <td>4</td>\n",
       "      <td>0</td>\n",
       "    </tr>\n",
       "    <tr>\n",
       "      <th>1</th>\n",
       "      <td>0</td>\n",
       "      <td>4</td>\n",
       "    </tr>\n",
       "  </tbody>\n",
       "</table>\n",
       "</div>"
      ],
      "text/plain": [
       "   0  1\n",
       "0  4  0\n",
       "1  0  4"
      ]
     },
     "metadata": {},
     "output_type": "display_data"
    },
    {
     "name": "stdout",
     "output_type": "stream",
     "text": [
      "confusion matrix for MLP by K=10 \n"
     ]
    }
   ],
   "source": [
    "display(pd.DataFrame(confusion_matrix(y_test , predicted_label1)))\n",
    "print('confusion matrix for MLP by K=10 ')"
   ]
  }
 ],
 "metadata": {
  "kernelspec": {
   "display_name": "Python 3",
   "language": "python",
   "name": "python3"
  },
  "language_info": {
   "codemirror_mode": {
    "name": "ipython",
    "version": 3
   },
   "file_extension": ".py",
   "mimetype": "text/x-python",
   "name": "python",
   "nbconvert_exporter": "python",
   "pygments_lexer": "ipython3",
   "version": "3.6.0"
  }
 },
 "nbformat": 4,
 "nbformat_minor": 2
}
